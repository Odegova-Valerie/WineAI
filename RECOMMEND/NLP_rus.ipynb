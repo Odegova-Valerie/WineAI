{
 "cells": [
  {
   "cell_type": "code",
   "execution_count": 29,
   "metadata": {},
   "outputs": [],
   "source": [
    "import numpy as np \n",
    "import pandas as pd\n",
    "import re"
   ]
  },
  {
   "cell_type": "code",
   "execution_count": 30,
   "metadata": {},
   "outputs": [
    {
     "data": {
      "text/html": [
       "<div>\n",
       "<style scoped>\n",
       "    .dataframe tbody tr th:only-of-type {\n",
       "        vertical-align: middle;\n",
       "    }\n",
       "\n",
       "    .dataframe tbody tr th {\n",
       "        vertical-align: top;\n",
       "    }\n",
       "\n",
       "    .dataframe thead th {\n",
       "        text-align: right;\n",
       "    }\n",
       "</style>\n",
       "<table border=\"1\" class=\"dataframe\">\n",
       "  <thead>\n",
       "    <tr style=\"text-align: right;\">\n",
       "      <th></th>\n",
       "      <th>Название</th>\n",
       "      <th>Крепость</th>\n",
       "      <th>Цвет</th>\n",
       "      <th>Сахар</th>\n",
       "      <th>Страна</th>\n",
       "      <th>Регион</th>\n",
       "      <th>Виноград</th>\n",
       "      <th>Отзыв</th>\n",
       "    </tr>\n",
       "  </thead>\n",
       "  <tbody>\n",
       "    <tr>\n",
       "      <th>0</th>\n",
       "      <td>19 Crimes Behind Bars Red</td>\n",
       "      <td>13.5</td>\n",
       "      <td>red</td>\n",
       "      <td>semi-dry</td>\n",
       "      <td>Australia</td>\n",
       "      <td>Victoria</td>\n",
       "      <td>Grenache/Garnacha</td>\n",
       "      <td>The wine is pleasant, not sour and refreshing ...</td>\n",
       "    </tr>\n",
       "    <tr>\n",
       "      <th>1</th>\n",
       "      <td>19 Crimes Exile</td>\n",
       "      <td>13.5</td>\n",
       "      <td>red</td>\n",
       "      <td>semi-dry</td>\n",
       "      <td>Australia</td>\n",
       "      <td>Victoria</td>\n",
       "      <td>Grenache/Garnacha</td>\n",
       "      <td>This is a very good Israeli wine, tasty, not w...</td>\n",
       "    </tr>\n",
       "    <tr>\n",
       "      <th>2</th>\n",
       "      <td>19 Crimes of Snoop Dogg Cali Red</td>\n",
       "      <td>13.5</td>\n",
       "      <td>red</td>\n",
       "      <td>semi-sweet</td>\n",
       "      <td>USA</td>\n",
       "      <td>California</td>\n",
       "      <td>Patty cheese</td>\n",
       "      <td>The wine is excellent, very soft and easy to d...</td>\n",
       "    </tr>\n",
       "    <tr>\n",
       "      <th>3</th>\n",
       "      <td>19 Crimes Sauvignon Block</td>\n",
       "      <td>12.0</td>\n",
       "      <td>white</td>\n",
       "      <td>semi-dry</td>\n",
       "      <td>Australia</td>\n",
       "      <td>South Australia</td>\n",
       "      <td>Sauvignon Blanc</td>\n",
       "      <td>The wine is terrible. With a bitter aftertaste...</td>\n",
       "    </tr>\n",
       "    <tr>\n",
       "      <th>4</th>\n",
       "      <td>7 Element Cabernet Sauvignon</td>\n",
       "      <td>14.3</td>\n",
       "      <td>red</td>\n",
       "      <td>dry</td>\n",
       "      <td>Russia</td>\n",
       "      <td>Crimea</td>\n",
       "      <td>Cabernet Sauvignon</td>\n",
       "      <td>The wine has a pleasant aroma of fruit, the mo...</td>\n",
       "    </tr>\n",
       "  </tbody>\n",
       "</table>\n",
       "</div>"
      ],
      "text/plain": [
       "                           Название  Крепость   Цвет       Сахар     Страна  \\\n",
       "0         19 Crimes Behind Bars Red      13.5    red    semi-dry  Australia   \n",
       "1                   19 Crimes Exile      13.5    red    semi-dry  Australia   \n",
       "2  19 Crimes of Snoop Dogg Cali Red      13.5    red  semi-sweet        USA   \n",
       "3         19 Crimes Sauvignon Block      12.0  white    semi-dry  Australia   \n",
       "4      7 Element Cabernet Sauvignon      14.3    red         dry     Russia   \n",
       "\n",
       "            Регион            Виноград  \\\n",
       "0         Victoria   Grenache/Garnacha   \n",
       "1         Victoria   Grenache/Garnacha   \n",
       "2       California        Patty cheese   \n",
       "3  South Australia     Sauvignon Blanc   \n",
       "4           Crimea  Cabernet Sauvignon   \n",
       "\n",
       "                                               Отзыв  \n",
       "0  The wine is pleasant, not sour and refreshing ...  \n",
       "1  This is a very good Israeli wine, tasty, not w...  \n",
       "2  The wine is excellent, very soft and easy to d...  \n",
       "3  The wine is terrible. With a bitter aftertaste...  \n",
       "4  The wine has a pleasant aroma of fruit, the mo...  "
      ]
     },
     "execution_count": 30,
     "metadata": {},
     "output_type": "execute_result"
    }
   ],
   "source": [
    "df = pd.read_excel('result_df_rus.xlsx')\n",
    "df = df.drop(columns=['Unnamed: 0'], axis = 1)\n",
    "df.head()"
   ]
  },
  {
   "cell_type": "code",
   "execution_count": 31,
   "metadata": {},
   "outputs": [
    {
     "data": {
      "text/html": [
       "<div>\n",
       "<style scoped>\n",
       "    .dataframe tbody tr th:only-of-type {\n",
       "        vertical-align: middle;\n",
       "    }\n",
       "\n",
       "    .dataframe tbody tr th {\n",
       "        vertical-align: top;\n",
       "    }\n",
       "\n",
       "    .dataframe thead th {\n",
       "        text-align: right;\n",
       "    }\n",
       "</style>\n",
       "<table border=\"1\" class=\"dataframe\">\n",
       "  <thead>\n",
       "    <tr style=\"text-align: right;\">\n",
       "      <th></th>\n",
       "      <th>title</th>\n",
       "      <th>strength</th>\n",
       "      <th>color</th>\n",
       "      <th>sugar</th>\n",
       "      <th>country</th>\n",
       "      <th>region</th>\n",
       "      <th>grape</th>\n",
       "      <th>review</th>\n",
       "    </tr>\n",
       "  </thead>\n",
       "  <tbody>\n",
       "    <tr>\n",
       "      <th>0</th>\n",
       "      <td>19 Crimes Behind Bars Red</td>\n",
       "      <td>13.5</td>\n",
       "      <td>red</td>\n",
       "      <td>semi-dry</td>\n",
       "      <td>Australia</td>\n",
       "      <td>Victoria</td>\n",
       "      <td>Grenache/Garnacha</td>\n",
       "      <td>The wine is pleasant, not sour and refreshing ...</td>\n",
       "    </tr>\n",
       "    <tr>\n",
       "      <th>1</th>\n",
       "      <td>19 Crimes Exile</td>\n",
       "      <td>13.5</td>\n",
       "      <td>red</td>\n",
       "      <td>semi-dry</td>\n",
       "      <td>Australia</td>\n",
       "      <td>Victoria</td>\n",
       "      <td>Grenache/Garnacha</td>\n",
       "      <td>This is a very good Israeli wine, tasty, not w...</td>\n",
       "    </tr>\n",
       "    <tr>\n",
       "      <th>2</th>\n",
       "      <td>19 Crimes of Snoop Dogg Cali Red</td>\n",
       "      <td>13.5</td>\n",
       "      <td>red</td>\n",
       "      <td>semi-sweet</td>\n",
       "      <td>USA</td>\n",
       "      <td>California</td>\n",
       "      <td>Patty cheese</td>\n",
       "      <td>The wine is excellent, very soft and easy to d...</td>\n",
       "    </tr>\n",
       "    <tr>\n",
       "      <th>3</th>\n",
       "      <td>19 Crimes Sauvignon Block</td>\n",
       "      <td>12.0</td>\n",
       "      <td>white</td>\n",
       "      <td>semi-dry</td>\n",
       "      <td>Australia</td>\n",
       "      <td>South Australia</td>\n",
       "      <td>Sauvignon Blanc</td>\n",
       "      <td>The wine is terrible. With a bitter aftertaste...</td>\n",
       "    </tr>\n",
       "    <tr>\n",
       "      <th>4</th>\n",
       "      <td>7 Element Cabernet Sauvignon</td>\n",
       "      <td>14.3</td>\n",
       "      <td>red</td>\n",
       "      <td>dry</td>\n",
       "      <td>Russia</td>\n",
       "      <td>Crimea</td>\n",
       "      <td>Cabernet Sauvignon</td>\n",
       "      <td>The wine has a pleasant aroma of fruit, the mo...</td>\n",
       "    </tr>\n",
       "  </tbody>\n",
       "</table>\n",
       "</div>"
      ],
      "text/plain": [
       "                              title  strength  color       sugar    country  \\\n",
       "0         19 Crimes Behind Bars Red      13.5    red    semi-dry  Australia   \n",
       "1                   19 Crimes Exile      13.5    red    semi-dry  Australia   \n",
       "2  19 Crimes of Snoop Dogg Cali Red      13.5    red  semi-sweet        USA   \n",
       "3         19 Crimes Sauvignon Block      12.0  white    semi-dry  Australia   \n",
       "4      7 Element Cabernet Sauvignon      14.3    red         dry     Russia   \n",
       "\n",
       "            region               grape  \\\n",
       "0         Victoria   Grenache/Garnacha   \n",
       "1         Victoria   Grenache/Garnacha   \n",
       "2       California        Patty cheese   \n",
       "3  South Australia     Sauvignon Blanc   \n",
       "4           Crimea  Cabernet Sauvignon   \n",
       "\n",
       "                                              review  \n",
       "0  The wine is pleasant, not sour and refreshing ...  \n",
       "1  This is a very good Israeli wine, tasty, not w...  \n",
       "2  The wine is excellent, very soft and easy to d...  \n",
       "3  The wine is terrible. With a bitter aftertaste...  \n",
       "4  The wine has a pleasant aroma of fruit, the mo...  "
      ]
     },
     "execution_count": 31,
     "metadata": {},
     "output_type": "execute_result"
    }
   ],
   "source": [
    "# Переименовываем столбцы\n",
    "df = df.rename(columns={'Название': 'title', 'Крепость': 'strength', 'Цвет': 'color', 'Сахар': 'sugar', 'Страна': 'country', 'Регион': 'region', 'Виноград': 'grape', 'Отзыв': 'review'})\n",
    "df.head()"
   ]
  },
  {
   "cell_type": "code",
   "execution_count": 32,
   "metadata": {},
   "outputs": [
    {
     "data": {
      "text/plain": [
       "'The wine is pleasant, not sour and refreshing with a light aftertaste with orange bitterness. It\\'s easy to drink, the smell is soft, it has something of a ripe honey melon. DescriptionTerroir: Prunotto Roero Arneis DOCG wine is produced from the Arneis grape variety, which is native to Piedmont. Arneis is most commonly found in the Roero mountains, northwest of Alba. Aging: In stainless steel containers at low temperatures for several months. Vinification: Only the best grapes were selected, which is of fundamental importance to obtain a quality drink. The grapes were carefully collected in baskets and sent to the winery, where they were gently pressed to separate the clarified juices and cold static setting. Fermentation took place at a temperature not exceeding 18 ° C for approximately 15 days. Tasting characteristics Color: Straw yellow with a greenish tint. Aroma: Represented by a harmonious interweaving of shades of ripe peach, apricot, melon, pear, spring flowers and minerals. Taste: Bright, fresh , juicy with a smooth texture, mouth-watering, crisp acidity, fruity citrus notes and a mineral finish. This is interesting \"Arneis\" literally means \"little rascal\", the grape is so called because it is quite difficult to grow. Chicken, Pasta, Risotto, Fish'"
      ]
     },
     "execution_count": 32,
     "metadata": {},
     "output_type": "execute_result"
    }
   ],
   "source": [
    "df.loc[0, 'review']"
   ]
  },
  {
   "cell_type": "code",
   "execution_count": null,
   "metadata": {},
   "outputs": [],
   "source": []
  },
  {
   "cell_type": "code",
   "execution_count": 33,
   "metadata": {},
   "outputs": [],
   "source": [
    "# Функция для корректирвки названий вин\n",
    "def corr_title(old_title):\n",
    "    new_title = re.sub(r',\\s*(?:г|d|g|Mr|M\\.Sc)\\..*', '', old_title)\n",
    "    # Убираем лишние символы в конце строки\n",
    "    if new_title[-1] == ',':\n",
    "        new_title = new_title[:-1]\n",
    "    return new_title\n",
    "\n",
    "df['title'] = df['title'].apply(corr_title) #Применяем функцию для столбца title"
   ]
  },
  {
   "cell_type": "code",
   "execution_count": 34,
   "metadata": {},
   "outputs": [],
   "source": [
    "# #Import all the dependencies\n",
    "# from gensim.models.doc2vec import Doc2Vec, TaggedDocument\n",
    "# from nltk.tokenize import word_tokenize\n",
    "# import nltk\n",
    "# nltk.download('punkt')"
   ]
  },
  {
   "cell_type": "code",
   "execution_count": 35,
   "metadata": {},
   "outputs": [],
   "source": [
    "# data = df['review'].to_list()\n",
    "# tagged_data = [TaggedDocument(words=word_tokenize(_d.lower()), tags=[str(i)]) for i, _d in enumerate(data)]"
   ]
  },
  {
   "cell_type": "code",
   "execution_count": 36,
   "metadata": {},
   "outputs": [],
   "source": [
    "# max_epochs = 100\n",
    "# vec_size = 1000\n",
    "# alpha = 0.025\n",
    "\n",
    "# model = Doc2Vec(vector_size=vec_size,\n",
    "#                 alpha=alpha, \n",
    "#                 min_alpha=0.00025,\n",
    "#                 min_count=1,\n",
    "#                 dm=1)\n",
    "  \n",
    "# model.build_vocab(tagged_data)\n",
    "\n",
    "# for epoch in range(max_epochs):\n",
    "#     print('iteration {0}'.format(epoch))\n",
    "#     model.train(tagged_data,\n",
    "#                 total_examples=model.corpus_count,\n",
    "#                 epochs=model.epochs)\n",
    "#     # decrease the learning rate\n",
    "#     model.alpha -= 0.0002\n",
    "#     # fix the learning rate, no decay\n",
    "#     model.min_alpha = model.alpha\n",
    "\n",
    "# model.save(\"d2v.model\")\n",
    "# print(\"Model Saved\")"
   ]
  },
  {
   "cell_type": "code",
   "execution_count": 37,
   "metadata": {},
   "outputs": [],
   "source": [
    "# from gensim.models.doc2vec import Doc2Vec\n",
    "\n",
    "# model= Doc2Vec.load(\"d2v.model\")\n",
    "# #to find the vector of a document which is not in training data\n",
    "# test_data = word_tokenize(\"Which wine is best to choose for a romantic dinner in the evening. I prefer semi-precious wines with soft tannins, but not too dry. Something that goes with pasta dishes and soft cheese would be an ideal choice. I will be grateful for the recommendations!\".lower())\n",
    "# v1 = model.infer_vector(test_data)\n",
    "# print(\"V1_infer\", v1)\n",
    "\n",
    "# # to find most similar doc using tags\n",
    "# similar_doc = model.docvecs.most_similar('1')\n",
    "# print(similar_doc)\n",
    "\n",
    "\n",
    "# # to find vector of doc in training data using tags or in other words, printing the vector of document at index 1 in training data\n",
    "# print(model.docvecs['1'])"
   ]
  },
  {
   "cell_type": "code",
   "execution_count": 38,
   "metadata": {},
   "outputs": [],
   "source": [
    "# df.loc[500, 'review']"
   ]
  },
  {
   "cell_type": "code",
   "execution_count": 39,
   "metadata": {},
   "outputs": [],
   "source": [
    "import numpy as np\n",
    "import pandas as pd\n",
    "import torch\n",
    "import torch.nn as nn\n",
    "from sklearn.model_selection import train_test_split\n",
    "from sklearn.metrics import classification_report\n",
    "import transformers\n",
    "from transformers import AutoModel, BertTokenizerFast"
   ]
  },
  {
   "cell_type": "code",
   "execution_count": 40,
   "metadata": {},
   "outputs": [],
   "source": [
    "# import BERT-base pretrained model\n",
    "model = AutoModel.from_pretrained('bert-base-uncased')\n",
    "\n",
    "# Load the BERT tokenizer\n",
    "tokenizer = BertTokenizerFast.from_pretrained('bert-base-uncased')"
   ]
  },
  {
   "cell_type": "code",
   "execution_count": 41,
   "metadata": {},
   "outputs": [],
   "source": [
    "df = df.head(500)"
   ]
  },
  {
   "cell_type": "code",
   "execution_count": 42,
   "metadata": {},
   "outputs": [
    {
     "name": "stderr",
     "output_type": "stream",
     "text": [
      "c:\\Users\\lera-\\.virtualenvs\\-SNfpu_4o\\lib\\site-packages\\transformers\\tokenization_utils_base.py:2619: FutureWarning: The `pad_to_max_length` argument is deprecated and will be removed in a future version, use `padding=True` or `padding='longest'` to pad to the longest sequence in the batch, or use `padding='max_length'` to pad to a max length. In this case, you can give a specific length with `max_length` (e.g. `max_length=45`) or leave max_length to None to pad to the maximal input size of the model (e.g. 512 for Bert).\n",
      "  warnings.warn(\n"
     ]
    }
   ],
   "source": [
    "train_text = df['review']\n",
    "\n",
    "# tokenize and encode sequences in the training set\n",
    "tokens_train = tokenizer.batch_encode_plus(\n",
    "    train_text.tolist(),\n",
    "    max_length = 45,\n",
    "    pad_to_max_length=True,\n",
    "    truncation=True\n",
    ")\n"
   ]
  },
  {
   "cell_type": "code",
   "execution_count": 43,
   "metadata": {},
   "outputs": [
    {
     "name": "stdout",
     "output_type": "stream",
     "text": [
      "Cosine-Similarity: tensor([[0.5656]])\n"
     ]
    }
   ],
   "source": [
    "#Import the library\n",
    "from sentence_transformers import SentenceTransformer, util, InputExample, losses\n",
    "#Load the model(here we use minilm)\n",
    "model = SentenceTransformer('all-MiniLM-L6-v2')\n",
    "#We get the embeddings by calling model.encode()\n",
    "emb1 = model.encode('The wine is pleasant, not sour and refreshing with a light aftertaste with orange bitterness. It\\'s easy to drink, the smell is soft, it has something of a ripe honey melon. DescriptionTerroir: Prunotto Roero Arneis DOCG wine is produced from the Arneis grape variety, which is native to Piedmont. Arneis is most commonly found in the Roero mountains, northwest of Alba. Aging: In stainless steel containers at low temperatures for several months. Vinification: Only the best grapes were selected, which is of fundamental importance to obtain a quality drink. The grapes were carefully collected in baskets and sent to the winery, where they were gently pressed to separate the clarified juices and cold static setting. Fermentation took place at a temperature not exceeding 18 ° C for approximately 15 days. Tasting characteristics Color: Straw yellow with a greenish tint. Aroma: Represented by a harmonious interweaving of shades of ripe peach, apricot, melon, pear, spring flowers and minerals. Taste: Bright, fresh , juicy with a smooth texture, mouth-watering, crisp acidity, fruity citrus notes and a mineral finish. This is interesting \"Arneis\" literally means \"little rascal\", the grape is so called because it is quite difficult to grow. Chicken, Pasta, Risotto, Fish')\n",
    "emb2 = model.encode(\"I want a dry red wine with citrus flavors. I have baked beef for dinner tonight. But the wine should be sour\")\n",
    "#Get the cosine similarity score between sentences\n",
    "cos_sim = util.cos_sim(emb1, emb2)\n",
    "print(\"Cosine-Similarity:\", cos_sim)"
   ]
  },
  {
   "cell_type": "code",
   "execution_count": 16,
   "metadata": {},
   "outputs": [
    {
     "name": "stderr",
     "output_type": "stream",
     "text": [
      "Iteration: 100%|██████████| 1/1 [00:00<00:00,  3.82it/s]\n",
      "Epoch: 100%|██████████| 1/1 [00:00<00:00,  3.77it/s]\n"
     ]
    }
   ],
   "source": [
    "# #Using Cosine SimilarityLoss\n",
    "# from torch.utils.data import DataLoader\n",
    "# #Define your train examples. You need more than just two examples...\n",
    "# #Inputs are wrapped around InputExample class which the model expects\n",
    "# train_examples = [InputExample(texts=df['review'], label=0.8),\n",
    "#     InputExample(texts=['Another pair', 'Unrelated sentence'], label=0.3)]\n",
    "# #Create a PyTorch dataloader and the train loss\n",
    "# train_dataloader = DataLoader(train_examples, shuffle=True, batch_size=16)\n",
    "# train_loss = losses.CosineSimilarityLoss(model)\n",
    "# #Tune the model\n",
    "# model.fit(train_objectives=[(train_dataloader, train_loss)], epochs=1, warmup_steps=100)"
   ]
  },
  {
   "cell_type": "code",
   "execution_count": 50,
   "metadata": {},
   "outputs": [
    {
     "name": "stdout",
     "output_type": "stream",
     "text": [
      "tensor(44)\n",
      "Наиболее похожий отзыв: A warm day of young autumn fills a glass with its light, you inhale the smell of flowers, walking along a country road, put your hand in your pocket and take out a toffee, unwrap it, and the new smell already interrupts the flowers, and then put it in your mouth and drink water - it knocks down the sweetness - and for a long time you dissolve it. Stunningly.Rich in a shaking and quite authentic wine, I liked the pleasant aroma and bright pleasant aftertaste, but it seemed sweet. It is not suitable for marine products, it is more suitable for snacks and desserts.Moderately acidic, pleasant, light, I will not say that it is powerful. I definitely enjoyed it!Bright aroma and taste are in development. Long aftertaste. It would be clean and harmonious, but there is not enough acidity. Interesting!The aroma is balanced, the taste is bright and saturated. That's right, the taste is better than the aroma!Excellent wine in its price segment has a brilliant golden color, the aroma of summer flowers, acacia and melon. Great with salads in the summer heat!I really like wines from the falangina grape variety. excellent value for money of the wine. Falangina wine is not so common in Russian stores. Wine style: white — light, refreshing, not aged in oak Tasting characteristics: The color is straw yellow with a bright sheen. Pure, clear floral and fruity aromas. Pleasant, refreshing and mild in taste. Gastronomy: Serve as an aperitif, as well as with daily seafood and vegetable dishes. Vineyards: More than 300 hectares are located on hills 350-700 m above sea level. Soils: volcanic origin, limestone. The method of exposure: For 4 months in stainless steel containers. Production method: Fermentation in steel tanks at a controlled temperature of 16-18 ° C. Label History: The winemakers of Feudi di San Gregorio believe that wine and a work of art share a similar creative process. To emphasize the individuality of each wine, Italian designer Massimo Vignelli created a recognizable label design. Mosaics with deep colors and golden letters remind of the greatness of Italian art at all times. Some of them are related to the finds of archaeologists at the site of the ancient eruption of Vesuvius — after all, it is here that Feudi di San Gregorio create their wines. “I like the design to be visually powerful, intellectually elegant and, above all, timeless,” Vignelli notes. He seems to have succeeded. It is interesting: Falangina is an autochthon of the Campania region, almost 90% of the vineyards of this variety are located here. Falangina chose the place for a reason — a beautiful and climatically impeccable region on the shores of the Tyrrhenian Sea was attractive for life even before our era — the Roman nobility built their mosaic villas here. That's why there are so many ancient varieties in the Campaign. Today, world wine critics consider Campania to be one of the most interesting Italian wine regions. According to the annual rankings, 5-6 of the best Italian whites will always come from here. Fish, Seafood\n"
     ]
    }
   ],
   "source": [
    "from sentence_transformers import SentenceTransformer\n",
    "\n",
    "# Загрузка модели SentenceTransformer\n",
    "model = SentenceTransformer('all-MiniLM-L6-v2')\n",
    "\n",
    "# Ваши существующие отзывы и пожелание пользователя\n",
    "existing_reviews = df['review']\n",
    "user_wish = \"It is a magnificent combination of delicate aromas of ripe fruits, reminiscent of golden summer days, with subtle nuances of tobacco leaf and vanilla, emphasizing the depth of experience and wisdom. The taste of this wine is a real revelation, a harmonious combination of richness and sophistication, leaving an aftertaste that seems to envelop you with an invisible veil of memories and emotions.\"\n",
    "\n",
    "# Получение эмбеддингов отзывов и пожелания пользователя\n",
    "review_embeddings = model.encode(existing_reviews)\n",
    "user_wish_embedding = model.encode([user_wish])\n",
    "\n",
    "# Вычисление косинусного сходства между пожеланием пользователя и каждым отзывом\n",
    "similarities = util.cos_sim(user_wish_embedding, review_embeddings)\n",
    "\n",
    "# Получение индекса наиболее похожего отзыва\n",
    "most_similar_index = similarities.argmax()\n",
    "\n",
    "print(most_similar_index)\n",
    "\n",
    "# Вывод наиболее похожего отзыва\n",
    "most_similar_review = existing_reviews[44]\n",
    "print(\"Наиболее похожий отзыв:\", most_similar_review)"
   ]
  },
  {
   "cell_type": "code",
   "execution_count": null,
   "metadata": {},
   "outputs": [],
   "source": []
  }
 ],
 "metadata": {
  "kernelspec": {
   "display_name": "-SNfpu_4o",
   "language": "python",
   "name": "python3"
  },
  "language_info": {
   "codemirror_mode": {
    "name": "ipython",
    "version": 3
   },
   "file_extension": ".py",
   "mimetype": "text/x-python",
   "name": "python",
   "nbconvert_exporter": "python",
   "pygments_lexer": "ipython3",
   "version": "3.9.11"
  }
 },
 "nbformat": 4,
 "nbformat_minor": 2
}
